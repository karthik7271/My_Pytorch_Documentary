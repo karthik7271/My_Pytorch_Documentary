{
  "nbformat": 4,
  "nbformat_minor": 0,
  "metadata": {
    "colab": {
      "provenance": [],
      "gpuType": "T4"
    },
    "kernelspec": {
      "name": "python3",
      "display_name": "Python 3"
    },
    "language_info": {
      "name": "python"
    },
    "accelerator": "GPU"
  },
  "cells": [
    {
      "cell_type": "code",
      "execution_count": 1,
      "metadata": {
        "id": "HX5yrzxbAGzm",
        "colab": {
          "base_uri": "https://localhost:8080/"
        },
        "outputId": "f8dea10e-3e24-41ee-c197-ec433ff86691"
      },
      "outputs": [
        {
          "output_type": "stream",
          "name": "stdout",
          "text": [
            "2.5.1+cu121\n"
          ]
        }
      ],
      "source": [
        "import torch\n",
        "print(torch.__version__)\n",
        "import matplotlib.pyplot as plt\n",
        "import numpy as np\n",
        "import pandas as pd"
      ]
    },
    {
      "cell_type": "code",
      "source": [
        "!nvidia-smi"
      ],
      "metadata": {
        "colab": {
          "base_uri": "https://localhost:8080/"
        },
        "id": "a71oiSR4BXeY",
        "outputId": "1ffc9df7-f977-4d17-adac-7346eddf3282"
      },
      "execution_count": 2,
      "outputs": [
        {
          "output_type": "stream",
          "name": "stdout",
          "text": [
            "Wed Jan 15 14:37:50 2025       \n",
            "+---------------------------------------------------------------------------------------+\n",
            "| NVIDIA-SMI 535.104.05             Driver Version: 535.104.05   CUDA Version: 12.2     |\n",
            "|-----------------------------------------+----------------------+----------------------+\n",
            "| GPU  Name                 Persistence-M | Bus-Id        Disp.A | Volatile Uncorr. ECC |\n",
            "| Fan  Temp   Perf          Pwr:Usage/Cap |         Memory-Usage | GPU-Util  Compute M. |\n",
            "|                                         |                      |               MIG M. |\n",
            "|=========================================+======================+======================|\n",
            "|   0  Tesla T4                       Off | 00000000:00:04.0 Off |                    0 |\n",
            "| N/A   55C    P8              10W /  70W |      0MiB / 15360MiB |      0%      Default |\n",
            "|                                         |                      |                  N/A |\n",
            "+-----------------------------------------+----------------------+----------------------+\n",
            "                                                                                         \n",
            "+---------------------------------------------------------------------------------------+\n",
            "| Processes:                                                                            |\n",
            "|  GPU   GI   CI        PID   Type   Process name                            GPU Memory |\n",
            "|        ID   ID                                                             Usage      |\n",
            "|=======================================================================================|\n",
            "|  No running processes found                                                           |\n",
            "+---------------------------------------------------------------------------------------+\n"
          ]
        }
      ]
    },
    {
      "cell_type": "code",
      "source": [
        "#creating a tensor\n",
        "vector=torch.tensor([[1,2,3],[3,4,5],[5,6,6]])\n",
        "vector"
      ],
      "metadata": {
        "colab": {
          "base_uri": "https://localhost:8080/"
        },
        "id": "s3pgx6jGBXcF",
        "outputId": "635ed467-0824-4f4c-9bd6-e5bb8807ed05"
      },
      "execution_count": 3,
      "outputs": [
        {
          "output_type": "execute_result",
          "data": {
            "text/plain": [
              "tensor([[1, 2, 3],\n",
              "        [3, 4, 5],\n",
              "        [5, 6, 6]])"
            ]
          },
          "metadata": {},
          "execution_count": 3
        }
      ]
    },
    {
      "cell_type": "code",
      "source": [
        "vector"
      ],
      "metadata": {
        "colab": {
          "base_uri": "https://localhost:8080/"
        },
        "id": "95TtXqRiBXZt",
        "outputId": "e731394b-c888-4c46-f79c-40ea606eb05b"
      },
      "execution_count": 4,
      "outputs": [
        {
          "output_type": "execute_result",
          "data": {
            "text/plain": [
              "tensor([[1, 2, 3],\n",
              "        [3, 4, 5],\n",
              "        [5, 6, 6]])"
            ]
          },
          "metadata": {},
          "execution_count": 4
        }
      ]
    },
    {
      "cell_type": "code",
      "source": [
        "vector.shape"
      ],
      "metadata": {
        "colab": {
          "base_uri": "https://localhost:8080/"
        },
        "id": "e1yYwRexBXXn",
        "outputId": "901f31a2-57a9-409b-b99c-73a0861af181"
      },
      "execution_count": 5,
      "outputs": [
        {
          "output_type": "execute_result",
          "data": {
            "text/plain": [
              "torch.Size([3, 3])"
            ]
          },
          "metadata": {},
          "execution_count": 5
        }
      ]
    },
    {
      "cell_type": "code",
      "source": [
        "MATRIX=torch.tensor([[7,8],[9,10]])\n",
        "MATRIX[0]"
      ],
      "metadata": {
        "colab": {
          "base_uri": "https://localhost:8080/"
        },
        "id": "7FaOzeGLBXUx",
        "outputId": "677de510-17df-4b9f-cb81-38b462d96919"
      },
      "execution_count": 6,
      "outputs": [
        {
          "output_type": "execute_result",
          "data": {
            "text/plain": [
              "tensor([7, 8])"
            ]
          },
          "metadata": {},
          "execution_count": 6
        }
      ]
    },
    {
      "cell_type": "markdown",
      "source": [
        "TENSORS AND MATRICIES ARE GENERALLY REPRESENTED USING CAPITAL LETTERS"
      ],
      "metadata": {
        "id": "l4CFpGUbE66L"
      }
    },
    {
      "cell_type": "code",
      "source": [
        "TENSOR=torch.tensor([[[1,2,3],\n",
        "                      [3,4,5],\n",
        "                      [5,6,7]],\n",
        "\n",
        "                      [[1,2,3],\n",
        "                       [1,2,3],\n",
        "                       [9,9,9]]])"
      ],
      "metadata": {
        "id": "8Rn3RZ49BXSv"
      },
      "execution_count": 7,
      "outputs": []
    },
    {
      "cell_type": "code",
      "source": [
        "TENSOR.shape"
      ],
      "metadata": {
        "colab": {
          "base_uri": "https://localhost:8080/"
        },
        "id": "f7MXY16uBXQm",
        "outputId": "a42faffc-3ddc-4610-b5f2-0f8c2c7bbb60"
      },
      "execution_count": 8,
      "outputs": [
        {
          "output_type": "execute_result",
          "data": {
            "text/plain": [
              "torch.Size([2, 3, 3])"
            ]
          },
          "metadata": {},
          "execution_count": 8
        }
      ]
    },
    {
      "cell_type": "markdown",
      "source": [
        "RANDOM TENSORS"
      ],
      "metadata": {
        "id": "kCyYm6uVFD9B"
      }
    },
    {
      "cell_type": "code",
      "source": [
        "random_tensor=torch.rand(3,3,3,2)"
      ],
      "metadata": {
        "id": "TPdfVxRIBXN0"
      },
      "execution_count": 9,
      "outputs": []
    },
    {
      "cell_type": "code",
      "source": [
        "random_tensor"
      ],
      "metadata": {
        "colab": {
          "base_uri": "https://localhost:8080/"
        },
        "id": "RiT82RPEBXL4",
        "outputId": "13cc6d8f-d392-4d89-d1fb-d43fa4cbdda6"
      },
      "execution_count": 10,
      "outputs": [
        {
          "output_type": "execute_result",
          "data": {
            "text/plain": [
              "tensor([[[[0.3900, 0.6044],\n",
              "          [0.1280, 0.6405],\n",
              "          [0.5824, 0.4448]],\n",
              "\n",
              "         [[0.2383, 0.7940],\n",
              "          [0.2518, 0.5322],\n",
              "          [0.0369, 0.3259]],\n",
              "\n",
              "         [[0.9040, 0.5197],\n",
              "          [0.4189, 0.1363],\n",
              "          [0.0964, 0.5166]]],\n",
              "\n",
              "\n",
              "        [[[0.8991, 0.9880],\n",
              "          [0.7067, 0.2063],\n",
              "          [0.3360, 0.8175]],\n",
              "\n",
              "         [[0.9311, 0.8732],\n",
              "          [0.1859, 0.5075],\n",
              "          [0.9086, 0.9082]],\n",
              "\n",
              "         [[0.7688, 0.2557],\n",
              "          [0.1716, 0.8833],\n",
              "          [0.5313, 0.9460]]],\n",
              "\n",
              "\n",
              "        [[[0.3136, 0.5417],\n",
              "          [0.4684, 0.2260],\n",
              "          [0.5925, 0.4144]],\n",
              "\n",
              "         [[0.9998, 0.5242],\n",
              "          [0.5248, 0.3133],\n",
              "          [0.1412, 0.7072]],\n",
              "\n",
              "         [[0.7280, 0.8344],\n",
              "          [0.8122, 0.4859],\n",
              "          [0.6453, 0.3097]]]])"
            ]
          },
          "metadata": {},
          "execution_count": 10
        }
      ]
    },
    {
      "cell_type": "code",
      "source": [
        "image_tensor=torch.rand(size=(224,224,3))\n",
        "image_tensor.shape"
      ],
      "metadata": {
        "colab": {
          "base_uri": "https://localhost:8080/"
        },
        "id": "DfBlihj_BXJZ",
        "outputId": "c60bd5bf-462c-451a-efd3-690dfb96f3b7"
      },
      "execution_count": 11,
      "outputs": [
        {
          "output_type": "execute_result",
          "data": {
            "text/plain": [
              "torch.Size([224, 224, 3])"
            ]
          },
          "metadata": {},
          "execution_count": 11
        }
      ]
    },
    {
      "cell_type": "markdown",
      "source": [
        "ZERO and ONES"
      ],
      "metadata": {
        "id": "_laUjBspF6Uo"
      }
    },
    {
      "cell_type": "code",
      "source": [
        "zeroes=torch.zeros(size=(1,3,2))"
      ],
      "metadata": {
        "id": "326F_FJJBXEm"
      },
      "execution_count": 12,
      "outputs": []
    },
    {
      "cell_type": "code",
      "source": [
        "zeroes"
      ],
      "metadata": {
        "colab": {
          "base_uri": "https://localhost:8080/"
        },
        "id": "KnamHgB0BXCk",
        "outputId": "d790c542-cbb7-410d-c7f8-b57f4e3d1981"
      },
      "execution_count": 13,
      "outputs": [
        {
          "output_type": "execute_result",
          "data": {
            "text/plain": [
              "tensor([[[0., 0.],\n",
              "         [0., 0.],\n",
              "         [0., 0.]]])"
            ]
          },
          "metadata": {},
          "execution_count": 13
        }
      ]
    },
    {
      "cell_type": "code",
      "source": [
        "one=torch.ones(size=(1,3,2))\n",
        "one"
      ],
      "metadata": {
        "colab": {
          "base_uri": "https://localhost:8080/"
        },
        "id": "K36DIuXsBXAL",
        "outputId": "aa9eff9f-09c4-4ce6-d54f-6bb05a0c5710"
      },
      "execution_count": 14,
      "outputs": [
        {
          "output_type": "execute_result",
          "data": {
            "text/plain": [
              "tensor([[[1., 1.],\n",
              "         [1., 1.],\n",
              "         [1., 1.]]])"
            ]
          },
          "metadata": {},
          "execution_count": 14
        }
      ]
    },
    {
      "cell_type": "code",
      "source": [
        "# creating range of tensors"
      ],
      "metadata": {
        "id": "sF68_mG9BW-J"
      },
      "execution_count": 15,
      "outputs": []
    },
    {
      "cell_type": "code",
      "source": [
        "torch.arange(1,10,7)"
      ],
      "metadata": {
        "colab": {
          "base_uri": "https://localhost:8080/"
        },
        "id": "HPF7CjbFBW75",
        "outputId": "b601e328-620f-4ef1-f199-07caa7c9f0fc"
      },
      "execution_count": 16,
      "outputs": [
        {
          "output_type": "execute_result",
          "data": {
            "text/plain": [
              "tensor([1, 8])"
            ]
          },
          "metadata": {},
          "execution_count": 16
        }
      ]
    },
    {
      "cell_type": "markdown",
      "source": [
        "TENSOR DATATYPE"
      ],
      "metadata": {
        "id": "Qy2x7uIYGwQC"
      }
    },
    {
      "cell_type": "code",
      "source": [
        "float_32=torch.tensor([3,3,4],dtype=torch.float16,device=\"cpu\")\n",
        "float_32\n",
        "print((float_32[0]).dtype)"
      ],
      "metadata": {
        "colab": {
          "base_uri": "https://localhost:8080/"
        },
        "id": "U1INRXRQGPdb",
        "outputId": "426a38f8-edc8-47f1-f515-f418d16de9a7"
      },
      "execution_count": 17,
      "outputs": [
        {
          "output_type": "stream",
          "name": "stdout",
          "text": [
            "torch.float16\n"
          ]
        }
      ]
    },
    {
      "cell_type": "code",
      "source": [
        "A=torch.tensor([5],dtype=torch.float64)\n",
        "B=torch.tensor([7],dtype=torch.float16)\n",
        "A*B"
      ],
      "metadata": {
        "colab": {
          "base_uri": "https://localhost:8080/"
        },
        "id": "k1BlPlgJGPbE",
        "outputId": "d1103ed0-32c3-4f03-d17b-c12a6f8ee955"
      },
      "execution_count": 18,
      "outputs": [
        {
          "output_type": "execute_result",
          "data": {
            "text/plain": [
              "tensor([35.], dtype=torch.float64)"
            ]
          },
          "metadata": {},
          "execution_count": 18
        }
      ]
    },
    {
      "cell_type": "markdown",
      "source": [
        "MANIPULATING TENSORS"
      ],
      "metadata": {
        "id": "jgGOSUCbT_j3"
      }
    },
    {
      "cell_type": "code",
      "source": [
        "# finding the min max and mean of the tensor"
      ],
      "metadata": {
        "id": "Ed1sYztIT_Yf"
      },
      "execution_count": 19,
      "outputs": []
    },
    {
      "cell_type": "code",
      "source": [
        "x=torch.tensor([10,20,0,100,1000])\n",
        "torch.min(x)\n",
        "torch.max(x)"
      ],
      "metadata": {
        "colab": {
          "base_uri": "https://localhost:8080/"
        },
        "id": "pGp2iBy_GPY9",
        "outputId": "2b713b73-5fd1-4b87-8600-7d0c020f637f"
      },
      "execution_count": 20,
      "outputs": [
        {
          "output_type": "execute_result",
          "data": {
            "text/plain": [
              "tensor(1000)"
            ]
          },
          "metadata": {},
          "execution_count": 20
        }
      ]
    },
    {
      "cell_type": "code",
      "source": [
        "torch.mean(x.type(torch.float32))"
      ],
      "metadata": {
        "colab": {
          "base_uri": "https://localhost:8080/"
        },
        "id": "6cSB0DDLGPWp",
        "outputId": "c721504e-989f-4954-d41d-319e3059b265"
      },
      "execution_count": 21,
      "outputs": [
        {
          "output_type": "execute_result",
          "data": {
            "text/plain": [
              "tensor(226.)"
            ]
          },
          "metadata": {},
          "execution_count": 21
        }
      ]
    },
    {
      "cell_type": "code",
      "source": [
        "x.argmin()"
      ],
      "metadata": {
        "colab": {
          "base_uri": "https://localhost:8080/"
        },
        "id": "e3hDhqj0GPUF",
        "outputId": "fa76ad9b-9929-42dc-d124-e77b0d8a2fbe"
      },
      "execution_count": 22,
      "outputs": [
        {
          "output_type": "execute_result",
          "data": {
            "text/plain": [
              "tensor(2)"
            ]
          },
          "metadata": {},
          "execution_count": 22
        }
      ]
    },
    {
      "cell_type": "code",
      "source": [
        "x=torch.arange(1.,10.)\n",
        "x,x.shape"
      ],
      "metadata": {
        "colab": {
          "base_uri": "https://localhost:8080/"
        },
        "id": "A5CSvcMnGPR-",
        "outputId": "305d0563-9d23-46e8-d059-1f9196f01a23"
      },
      "execution_count": 23,
      "outputs": [
        {
          "output_type": "execute_result",
          "data": {
            "text/plain": [
              "(tensor([1., 2., 3., 4., 5., 6., 7., 8., 9.]), torch.Size([9]))"
            ]
          },
          "metadata": {},
          "execution_count": 23
        }
      ]
    },
    {
      "cell_type": "code",
      "source": [
        "x.reshape(3,3)"
      ],
      "metadata": {
        "colab": {
          "base_uri": "https://localhost:8080/"
        },
        "id": "omt8BMhrGPP3",
        "outputId": "beb84cd3-0be3-4ec6-d017-af0999a41fe7"
      },
      "execution_count": 24,
      "outputs": [
        {
          "output_type": "execute_result",
          "data": {
            "text/plain": [
              "tensor([[1., 2., 3.],\n",
              "        [4., 5., 6.],\n",
              "        [7., 8., 9.]])"
            ]
          },
          "metadata": {},
          "execution_count": 24
        }
      ]
    },
    {
      "cell_type": "code",
      "source": [
        "# numpy as tensor"
      ],
      "metadata": {
        "id": "-ajBDOKUGPNi"
      },
      "execution_count": 25,
      "outputs": []
    },
    {
      "cell_type": "code",
      "source": [
        "import torch\n",
        "import numpy as np\n",
        "array=np.arange(1,8)\n",
        "tensor=torch.from_numpy(array)\n",
        "tensor.dtype"
      ],
      "metadata": {
        "colab": {
          "base_uri": "https://localhost:8080/"
        },
        "id": "p-ZD5V8NGPLP",
        "outputId": "e82e71f8-8662-42c2-b6d9-6f8648f39b2a"
      },
      "execution_count": 26,
      "outputs": [
        {
          "output_type": "execute_result",
          "data": {
            "text/plain": [
              "torch.int64"
            ]
          },
          "metadata": {},
          "execution_count": 26
        }
      ]
    },
    {
      "cell_type": "code",
      "source": [
        "array.dtype"
      ],
      "metadata": {
        "colab": {
          "base_uri": "https://localhost:8080/"
        },
        "id": "bmaoTjxVGPI1",
        "outputId": "e3d42d55-6b4c-4a86-9828-2487d0bc1207"
      },
      "execution_count": 27,
      "outputs": [
        {
          "output_type": "execute_result",
          "data": {
            "text/plain": [
              "dtype('int64')"
            ]
          },
          "metadata": {},
          "execution_count": 27
        }
      ]
    },
    {
      "cell_type": "code",
      "source": [
        "array=array+1\n",
        "print(array)\n",
        "print(tensor)"
      ],
      "metadata": {
        "colab": {
          "base_uri": "https://localhost:8080/"
        },
        "id": "qIav28lPGPGj",
        "outputId": "5477dbd9-59c5-4b40-bcfb-d6204452ce45"
      },
      "execution_count": 28,
      "outputs": [
        {
          "output_type": "stream",
          "name": "stdout",
          "text": [
            "[2 3 4 5 6 7 8]\n",
            "tensor([1, 2, 3, 4, 5, 6, 7])\n"
          ]
        }
      ]
    },
    {
      "cell_type": "markdown",
      "source": [
        "CHECK GPU"
      ],
      "metadata": {
        "id": "P41_9MQRZZM4"
      }
    },
    {
      "cell_type": "code",
      "source": [
        "torch.cuda.is_available()"
      ],
      "metadata": {
        "colab": {
          "base_uri": "https://localhost:8080/"
        },
        "id": "Ly7xpH5aZZDC",
        "outputId": "c56fc79f-5495-4145-8d19-9f3f2a619e39"
      },
      "execution_count": 29,
      "outputs": [
        {
          "output_type": "execute_result",
          "data": {
            "text/plain": [
              "True"
            ]
          },
          "metadata": {},
          "execution_count": 29
        }
      ]
    },
    {
      "cell_type": "code",
      "source": [
        "device=\"cuda\" if torch.cuda.is_available() else \"CPU\""
      ],
      "metadata": {
        "id": "CN_gxZ7JaN2Z"
      },
      "execution_count": 34,
      "outputs": []
    },
    {
      "cell_type": "code",
      "source": [
        "tensor=torch.tensor([1,2,3])\n",
        "print(tensor,tensor.device)"
      ],
      "metadata": {
        "colab": {
          "base_uri": "https://localhost:8080/"
        },
        "id": "Apedi4LhGPEL",
        "outputId": "13181eda-d487-4efc-e56a-c315a3ce76dd"
      },
      "execution_count": 31,
      "outputs": [
        {
          "output_type": "stream",
          "name": "stdout",
          "text": [
            "tensor([1, 2, 3]) cpu\n"
          ]
        }
      ]
    },
    {
      "cell_type": "code",
      "source": [
        "tensor_on_gpu=tensor.to(device)\n",
        "tensor_on_gpu"
      ],
      "metadata": {
        "colab": {
          "base_uri": "https://localhost:8080/"
        },
        "id": "Pi2-95-rGPB4",
        "outputId": "46cb9925-448c-4401-9b0a-d0907f764e04"
      },
      "execution_count": 35,
      "outputs": [
        {
          "output_type": "execute_result",
          "data": {
            "text/plain": [
              "tensor([1, 2, 3], device='cuda:0')"
            ]
          },
          "metadata": {},
          "execution_count": 35
        }
      ]
    },
    {
      "cell_type": "markdown",
      "source": [
        "# PYTORCH WORKFLOW"
      ],
      "metadata": {
        "id": "i_vPCH3Xa81E"
      }
    },
    {
      "cell_type": "code",
      "source": [
        "#creating our own linear regression dataset"
      ],
      "metadata": {
        "id": "IQSAIePIGO_a"
      },
      "execution_count": 36,
      "outputs": []
    },
    {
      "cell_type": "code",
      "source": [
        "weight=0.7\n",
        "bias=0.3\n",
        "\n",
        "start=0\n",
        "end=1\n",
        "step=0.02\n",
        "\n",
        "x=torch.arange(start,end,step).unsqueeze(dim=1)\n",
        "y=weight*x + bias"
      ],
      "metadata": {
        "id": "N74fixzEGO8s"
      },
      "execution_count": 42,
      "outputs": []
    },
    {
      "cell_type": "code",
      "source": [
        "x[:10]"
      ],
      "metadata": {
        "colab": {
          "base_uri": "https://localhost:8080/"
        },
        "id": "oFjEhV38GO6P",
        "outputId": "7fae6d8a-3f72-496a-cf7f-9e3780d7620f"
      },
      "execution_count": 45,
      "outputs": [
        {
          "output_type": "execute_result",
          "data": {
            "text/plain": [
              "tensor([[0.0000],\n",
              "        [0.0200],\n",
              "        [0.0400],\n",
              "        [0.0600],\n",
              "        [0.0800],\n",
              "        [0.1000],\n",
              "        [0.1200],\n",
              "        [0.1400],\n",
              "        [0.1600],\n",
              "        [0.1800]])"
            ]
          },
          "metadata": {},
          "execution_count": 45
        }
      ]
    },
    {
      "cell_type": "code",
      "source": [
        "train_split=int(0.8*len(x))\n",
        "X_train,y_train=x[:train_split],y[:train_split]\n",
        "X_test,y_test=x[train_split:],y[train_split:]\n",
        "len(X_train)"
      ],
      "metadata": {
        "colab": {
          "base_uri": "https://localhost:8080/"
        },
        "id": "4sh2xedZGO3q",
        "outputId": "1bb78163-aba5-4ba6-a2ae-ca2d4e69282c"
      },
      "execution_count": 48,
      "outputs": [
        {
          "output_type": "execute_result",
          "data": {
            "text/plain": [
              "40"
            ]
          },
          "metadata": {},
          "execution_count": 48
        }
      ]
    },
    {
      "cell_type": "code",
      "source": [
        "import matplotlib.pyplot as plt"
      ],
      "metadata": {
        "id": "LKIKi4XUeoNK"
      },
      "execution_count": 49,
      "outputs": []
    },
    {
      "cell_type": "code",
      "source": [
        "import matplotlib.pyplot as plt\n",
        "\n",
        "def plot_data(train_data=X_train,train_label=y_train, test_data=X_test, test_label=y_test, prediction=None):\n",
        "    plt.figure(figsize=(10, 7))  # Set figure size\n",
        "    plt.scatter(train_data, train_label, c=\"b\", s=4, label=\"Training Data\")\n",
        "    plt.scatter(test_data, test_label, c=\"g\", s=4, label=\"Testing Data\")\n",
        "\n",
        "    if prediction is not None:\n",
        "        plt.scatter(test_data, prediction, c=\"r\", s=4, label=\"Predictions\")\n",
        "\n",
        "    plt.title(\"Data Visualization\")\n",
        "    plt.xlabel(\"Features\")\n",
        "    plt.ylabel(\"Labels\")\n",
        "    plt.legend()\n",
        "    plt.show()"
      ],
      "metadata": {
        "id": "jFTc3V7seL5r"
      },
      "execution_count": 88,
      "outputs": []
    },
    {
      "cell_type": "code",
      "source": [
        "plot_data(X_train,y_train,X_test,y_test)"
      ],
      "metadata": {
        "colab": {
          "base_uri": "https://localhost:8080/",
          "height": 641
        },
        "id": "CzEvti84GO1k",
        "outputId": "e9795625-3cf2-46cf-fd6e-53ee301cee7c"
      },
      "execution_count": 89,
      "outputs": [
        {
          "output_type": "display_data",
          "data": {
            "text/plain": [
              "<Figure size 1000x700 with 1 Axes>"
            ],
            "image/png": "[encoded data removed]"
          },
          "metadata": {}
        }
      ]
    },
    {
      "cell_type": "markdown",
      "source": [
        "FIRST PYTORCH MODEL"
      ],
      "metadata": {
        "id": "r6ixW-vwgpjE"
      }
    },
    {
      "cell_type": "code",
      "source": [
        "from torch import nn"
      ],
      "metadata": {
        "id": "jWSuz0g8hJqo"
      },
      "execution_count": 90,
      "outputs": []
    },
    {
      "cell_type": "code",
      "source": [
        "class LinearRegression(nn.Module):\n",
        "  def __init__(self):\n",
        "    super().__init__()\n",
        "    self.weights=nn.Parameter(torch.randn(1,requires_grad=True,\n",
        "                                          dtype=torch.float))\n",
        "    self.bias=nn.Parameter(torch.rand(1,\n",
        "                                      requires_grad=True,\n",
        "                                      dtype=torch.float))\n",
        "\n",
        "  def forward(self,x:torch.Tensor)->torch.Tensor:\n",
        "    return self.weights*x+self.bias #linear Regression Formula\n"
      ],
      "metadata": {
        "id": "6836eK40GOzG"
      },
      "execution_count": 91,
      "outputs": []
    },
    {
      "cell_type": "code",
      "source": [
        "# checking the contents of our pytorch model\n",
        "\n",
        "torch.manual_seed(42)\n",
        "\n",
        "model_0=LinearRegression()\n",
        "print(list(model_0.parameters()))\n",
        "print(model_0.state_dict())"
      ],
      "metadata": {
        "colab": {
          "base_uri": "https://localhost:8080/"
        },
        "id": "S38gmEt3GOwc",
        "outputId": "ec45d008-8db6-4c99-f890-85f7195a4982"
      },
      "execution_count": 92,
      "outputs": [
        {
          "output_type": "stream",
          "name": "stdout",
          "text": [
            "[Parameter containing:\n",
            "tensor([0.3367], requires_grad=True), Parameter containing:\n",
            "tensor([0.3904], requires_grad=True)]\n",
            "OrderedDict([('weights', tensor([0.3367])), ('bias', tensor([0.3904]))])\n"
          ]
        }
      ]
    },
    {
      "cell_type": "code",
      "source": [
        "with torch.inference_mode():\n",
        "  y_pred=model_0(X_test)\n",
        "\n",
        "y_pred"
      ],
      "metadata": {
        "colab": {
          "base_uri": "https://localhost:8080/"
        },
        "id": "JgAb6whYGOrJ",
        "outputId": "eca1f0d5-d968-447e-ef1e-8b5472075dca"
      },
      "execution_count": 107,
      "outputs": [
        {
          "output_type": "execute_result",
          "data": {
            "text/plain": [
              "tensor([[0.8634],\n",
              "        [0.8773],\n",
              "        [0.8913],\n",
              "        [0.9052],\n",
              "        [0.9191],\n",
              "        [0.9330],\n",
              "        [0.9469],\n",
              "        [0.9609],\n",
              "        [0.9748],\n",
              "        [0.9887]])"
            ]
          },
          "metadata": {},
          "execution_count": 107
        }
      ]
    },
    {
      "cell_type": "code",
      "source": [
        "plot_data(prediction=y_pred)"
      ],
      "metadata": {
        "colab": {
          "base_uri": "https://localhost:8080/",
          "height": 641
        },
        "id": "fZiozNiYGOol",
        "outputId": "082d5bee-88f4-40ac-c942-978bc8118a94"
      },
      "execution_count": 108,
      "outputs": [
        {
          "output_type": "display_data",
          "data": {
            "text/plain": [
              "<Figure size 1000x700 with 1 Axes>"
            ],
            "image/png": "[encoded data removed]"
          },
          "metadata": {}
        }
      ]
    },
    {
      "cell_type": "code",
      "source": [
        "# set up a loss function and set up an optimizer\n",
        "loss_fun=nn.L1Loss()\n",
        "\n",
        "optimizer=torch.optim.SGD(params=model_0.parameters(),\n",
        "                          lr=0.01)"
      ],
      "metadata": {
        "id": "kSzQZOfCGOmU"
      },
      "execution_count": 101,
      "outputs": []
    },
    {
      "cell_type": "code",
      "source": [
        "list(model_0.parameters())"
      ],
      "metadata": {
        "colab": {
          "base_uri": "https://localhost:8080/"
        },
        "id": "NPCpKLUXqryt",
        "outputId": "e9c1a417-6230-4708-b3f9-24e168c549a4"
      },
      "execution_count": 98,
      "outputs": [
        {
          "output_type": "execute_result",
          "data": {
            "text/plain": [
              "[Parameter containing:\n",
              " tensor([0.3367], requires_grad=True),\n",
              " Parameter containing:\n",
              " tensor([0.3904], requires_grad=True)]"
            ]
          },
          "metadata": {},
          "execution_count": 98
        }
      ]
    },
    {
      "cell_type": "code",
      "source": [
        "# building a traning and testing loop in pytorch\n",
        "epochs=100\n",
        "for epoch in range(epochs):\n",
        "  # train mode in pytorch sets all parameters that require gradients to require gradients\n",
        "  model_0.train()\n",
        "\n",
        "  # predict the value\n",
        "  y_pred=model_0(X_train)\n",
        "\n",
        "  #calculate the loss\n",
        "  loss=loss_fun(y_pred,y_train)\n",
        "\n",
        "  optimizer.zero_grad()\n",
        "\n",
        "  #perform backpropagation on the loss with respect to the parameters of the model\n",
        "  loss.backward()\n",
        "\n",
        "  optimizer.step()\n",
        "\n",
        "  #model evaluation\n",
        "  model_0.eval()\n",
        "  with torch.inference_mode():\n",
        "    test_pred=model_0(X_test)\n",
        "\n",
        "    test_loss=loss_fun(test_pred,y_test)\n",
        "\n",
        "  if epoch%10==0:\n",
        "    print(f\"EPOCH {epoch}\")\n",
        "    print(f\"Train_Loss ={loss}\")\n",
        "    print(f\"Test_Loss ={test_loss}\")\n"
      ],
      "metadata": {
        "colab": {
          "base_uri": "https://localhost:8080/"
        },
        "id": "5xyhh8DKGOj6",
        "outputId": "7ba86a45-4ac4-428a-957e-f02f8c8d59e1"
      },
      "execution_count": 111,
      "outputs": [
        {
          "output_type": "stream",
          "name": "stdout",
          "text": [
            "EPOCH 0\n",
            "Train_Loss =0.004964242689311504\n",
            "Test_Loss =0.010411137714982033\n",
            "EPOCH 10\n",
            "Train_Loss =0.004964242689311504\n",
            "Test_Loss =0.010411137714982033\n",
            "EPOCH 20\n",
            "Train_Loss =0.004964242689311504\n",
            "Test_Loss =0.010411137714982033\n",
            "EPOCH 30\n",
            "Train_Loss =0.004964242689311504\n",
            "Test_Loss =0.010411137714982033\n",
            "EPOCH 40\n",
            "Train_Loss =0.004964242689311504\n",
            "Test_Loss =0.010411137714982033\n",
            "EPOCH 50\n",
            "Train_Loss =0.004964242689311504\n",
            "Test_Loss =0.010411137714982033\n",
            "EPOCH 60\n",
            "Train_Loss =0.004964242689311504\n",
            "Test_Loss =0.010411137714982033\n",
            "EPOCH 70\n",
            "Train_Loss =0.004964242689311504\n",
            "Test_Loss =0.010411137714982033\n",
            "EPOCH 80\n",
            "Train_Loss =0.004964242689311504\n",
            "Test_Loss =0.010411137714982033\n",
            "EPOCH 90\n",
            "Train_Loss =0.004964242689311504\n",
            "Test_Loss =0.010411137714982033\n"
          ]
        }
      ]
    },
    {
      "cell_type": "code",
      "source": [
        "# saving your model in pytorch\n",
        "\"\"\" torch.save() in the python pickle format\n",
        "    torch.load()\n",
        "    torch.nn.Module.load_state_dict()\n",
        "\"\"\"\n",
        "\n",
        "from pathlib import Path\n",
        "#create a model directory\n",
        "MODEL_PATH=Path(\"models\")\n",
        "MODEL_PATH.mkdir(parents=True,exist_ok=True)\n",
        "MODEL_NAME=\"01_pytorch_workflow_model.pth\"\n",
        "MODEL_SAVE_PATH=MODEL_PATH/MODEL_NAME\n",
        "\n",
        "#save the model\n",
        "torch.save(obj=model_0.state_dict(),\n",
        "           f=MODEL_SAVE_PATH)"
      ],
      "metadata": {
        "id": "2UtybcM4GOhZ"
      },
      "execution_count": 116,
      "outputs": []
    },
    {
      "cell_type": "code",
      "source": [],
      "metadata": {
        "id": "vmAiaen8GOez"
      },
      "execution_count": null,
      "outputs": []
    },
    {
      "cell_type": "code",
      "source": [],
      "metadata": {
        "id": "KvQtrENklLuW"
      },
      "execution_count": null,
      "outputs": []
    },
    {
      "cell_type": "code",
      "source": [],
      "metadata": {
        "id": "ga0JvWs5lLrn"
      },
      "execution_count": null,
      "outputs": []
    },
    {
      "cell_type": "code",
      "source": [],
      "metadata": {
        "id": "tr-nRujalLpU"
      },
      "execution_count": null,
      "outputs": []
    },
    {
      "cell_type": "code",
      "source": [],
      "metadata": {
        "id": "_lDfbtsclLko"
      },
      "execution_count": null,
      "outputs": []
    },
    {
      "cell_type": "code",
      "source": [],
      "metadata": {
        "id": "z9xzxfWplLiy"
      },
      "execution_count": null,
      "outputs": []
    },
    {
      "cell_type": "code",
      "source": [],
      "metadata": {
        "id": "kUcXepWrlLge"
      },
      "execution_count": null,
      "outputs": []
    },
    {
      "cell_type": "code",
      "source": [],
      "metadata": {
        "id": "MWRiVz0DlLdq"
      },
      "execution_count": null,
      "outputs": []
    },
    {
      "cell_type": "code",
      "source": [],
      "metadata": {
        "id": "JZ44xmexlLbZ"
      },
      "execution_count": null,
      "outputs": []
    },
    {
      "cell_type": "code",
      "source": [],
      "metadata": {
        "id": "oebQ6YImlLZG"
      },
      "execution_count": null,
      "outputs": []
    },
    {
      "cell_type": "code",
      "source": [],
      "metadata": {
        "id": "wM5orHJrlLWh"
      },
      "execution_count": null,
      "outputs": []
    },
    {
      "cell_type": "code",
      "source": [],
      "metadata": {
        "id": "Khw-TztplLTz"
      },
      "execution_count": null,
      "outputs": []
    },
    {
      "cell_type": "code",
      "source": [],
      "metadata": {
        "id": "9XiY-YWBlLRX"
      },
      "execution_count": null,
      "outputs": []
    },
    {
      "cell_type": "code",
      "source": [],
      "metadata": {
        "id": "ljxU3u2ilLOx"
      },
      "execution_count": null,
      "outputs": []
    },
    {
      "cell_type": "code",
      "source": [],
      "metadata": {
        "id": "-2cHZAJMlLMN"
      },
      "execution_count": null,
      "outputs": []
    },
    {
      "cell_type": "code",
      "source": [],
      "metadata": {
        "id": "fdEz2F7UlLJl"
      },
      "execution_count": null,
      "outputs": []
    },
    {
      "cell_type": "code",
      "source": [],
      "metadata": {
        "id": "ld3SfANWlLG7"
      },
      "execution_count": null,
      "outputs": []
    },
    {
      "cell_type": "code",
      "source": [],
      "metadata": {
        "id": "ADzDoxkYlLEY"
      },
      "execution_count": null,
      "outputs": []
    },
    {
      "cell_type": "code",
      "source": [],
      "metadata": {
        "id": "JRxtD1bMlLB4"
      },
      "execution_count": null,
      "outputs": []
    },
    {
      "cell_type": "code",
      "source": [],
      "metadata": {
        "id": "FiYwAM_SlK_d"
      },
      "execution_count": null,
      "outputs": []
    }
  ]
}